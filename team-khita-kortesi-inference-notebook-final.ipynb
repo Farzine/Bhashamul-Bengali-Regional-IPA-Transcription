{
 "cells": [
  {
   "cell_type": "markdown",
   "id": "06075e29",
   "metadata": {
    "papermill": {
     "duration": 0.00949,
     "end_time": "2024-02-29T09:17:15.674970",
     "exception": false,
     "start_time": "2024-02-29T09:17:15.665480",
     "status": "completed"
    },
    "tags": []
   },
   "source": [
    "# 0. Necessary Gatherings"
   ]
  },
  {
   "cell_type": "code",
   "execution_count": 1,
   "id": "090682c8",
   "metadata": {
    "execution": {
     "iopub.execute_input": "2024-02-29T09:17:15.695628Z",
     "iopub.status.busy": "2024-02-29T09:17:15.694823Z",
     "iopub.status.idle": "2024-02-29T09:17:49.688157Z",
     "shell.execute_reply": "2024-02-29T09:17:49.687329Z"
    },
    "papermill": {
     "duration": 34.006225,
     "end_time": "2024-02-29T09:17:49.690492",
     "exception": false,
     "start_time": "2024-02-29T09:17:15.684267",
     "status": "completed"
    },
    "tags": []
   },
   "outputs": [
    {
     "name": "stdout",
     "output_type": "stream",
     "text": [
      "Requirement already satisfied: tqdm in /opt/conda/lib/python3.10/site-packages (4.66.1)\r\n"
     ]
    },
    {
     "name": "stderr",
     "output_type": "stream",
     "text": [
      "2024-02-29 09:17:36.736916: E external/local_xla/xla/stream_executor/cuda/cuda_dnn.cc:9261] Unable to register cuDNN factory: Attempting to register factory for plugin cuDNN when one has already been registered\n",
      "2024-02-29 09:17:36.737026: E external/local_xla/xla/stream_executor/cuda/cuda_fft.cc:607] Unable to register cuFFT factory: Attempting to register factory for plugin cuFFT when one has already been registered\n",
      "2024-02-29 09:17:36.860618: E external/local_xla/xla/stream_executor/cuda/cuda_blas.cc:1515] Unable to register cuBLAS factory: Attempting to register factory for plugin cuBLAS when one has already been registered\n"
     ]
    }
   ],
   "source": [
    "!pip install tqdm\n",
    "import numpy as np\n",
    "import pandas as pd \n",
    "\n",
    "from tqdm import tqdm\n",
    "from transformers import pipeline\n",
    "from transformers import AutoModelForSeq2SeqLM, AutoTokenizer\n",
    "from IPython.display import clear_output"
   ]
  },
  {
   "cell_type": "code",
   "execution_count": 2,
   "id": "98270ad8",
   "metadata": {
    "execution": {
     "iopub.execute_input": "2024-02-29T09:17:49.709564Z",
     "iopub.status.busy": "2024-02-29T09:17:49.709040Z",
     "iopub.status.idle": "2024-02-29T09:17:49.781589Z",
     "shell.execute_reply": "2024-02-29T09:17:49.780619Z"
    },
    "papermill": {
     "duration": 0.084272,
     "end_time": "2024-02-29T09:17:49.783624",
     "exception": false,
     "start_time": "2024-02-29T09:17:49.699352",
     "status": "completed"
    },
    "tags": []
   },
   "outputs": [],
   "source": [
    "import torch\n",
    "torch_device = torch_device = 'cuda' if torch.cuda.is_available() else 'cpu'"
   ]
  },
  {
   "cell_type": "markdown",
   "id": "60501283",
   "metadata": {
    "papermill": {
     "duration": 0.00826,
     "end_time": "2024-02-29T09:17:49.800485",
     "exception": false,
     "start_time": "2024-02-29T09:17:49.792225",
     "status": "completed"
    },
    "tags": []
   },
   "source": [
    "# 0.1 Give Test Dataset in CSV [3 Columns : Index District Contents] [Just Change Here To Infer With Private Dataset, Don't Need to change anywhere else]"
   ]
  },
  {
   "cell_type": "code",
   "execution_count": 3,
   "id": "1a89285e",
   "metadata": {
    "execution": {
     "iopub.execute_input": "2024-02-29T09:17:49.818505Z",
     "iopub.status.busy": "2024-02-29T09:17:49.818149Z",
     "iopub.status.idle": "2024-02-29T09:17:49.822257Z",
     "shell.execute_reply": "2024-02-29T09:17:49.821480Z"
    },
    "papermill": {
     "duration": 0.015254,
     "end_time": "2024-02-29T09:17:49.824145",
     "exception": false,
     "start_time": "2024-02-29T09:17:49.808891",
     "status": "completed"
    },
    "tags": []
   },
   "outputs": [],
   "source": [
    "DATASET_CSV = '/kaggle/input/regipa/test_regipa.csv'\n"
   ]
  },
  {
   "cell_type": "markdown",
   "id": "e17dc20e",
   "metadata": {
    "papermill": {
     "duration": 0.008012,
     "end_time": "2024-02-29T09:17:49.840463",
     "exception": false,
     "start_time": "2024-02-29T09:17:49.832451",
     "status": "completed"
    },
    "tags": []
   },
   "source": [
    "# 0.2 Give Model Directory/ Hugging Face Model id [Don't change here]"
   ]
  },
  {
   "cell_type": "code",
   "execution_count": 4,
   "id": "c22cdc8c",
   "metadata": {
    "execution": {
     "iopub.execute_input": "2024-02-29T09:17:49.858836Z",
     "iopub.status.busy": "2024-02-29T09:17:49.858571Z",
     "iopub.status.idle": "2024-02-29T09:17:49.862427Z",
     "shell.execute_reply": "2024-02-29T09:17:49.861569Z"
    },
    "papermill": {
     "duration": 0.014764,
     "end_time": "2024-02-29T09:17:49.864357",
     "exception": false,
     "start_time": "2024-02-29T09:17:49.849593",
     "status": "completed"
    },
    "tags": []
   },
   "outputs": [],
   "source": [
    "MODEL_DIRECTORY = 'abdullaharean/regipa_bangla'"
   ]
  },
  {
   "cell_type": "markdown",
   "id": "e8658028",
   "metadata": {
    "papermill": {
     "duration": 0.008035,
     "end_time": "2024-02-29T09:17:49.880680",
     "exception": false,
     "start_time": "2024-02-29T09:17:49.872645",
     "status": "completed"
    },
    "tags": []
   },
   "source": [
    "# 1. Preprocessing"
   ]
  },
  {
   "cell_type": "code",
   "execution_count": 5,
   "id": "82e59599",
   "metadata": {
    "execution": {
     "iopub.execute_input": "2024-02-29T09:17:49.898610Z",
     "iopub.status.busy": "2024-02-29T09:17:49.898351Z",
     "iopub.status.idle": "2024-02-29T09:17:49.945307Z",
     "shell.execute_reply": "2024-02-29T09:17:49.944491Z"
    },
    "papermill": {
     "duration": 0.058305,
     "end_time": "2024-02-29T09:17:49.947525",
     "exception": false,
     "start_time": "2024-02-29T09:17:49.889220",
     "status": "completed"
    },
    "tags": []
   },
   "outputs": [],
   "source": [
    "test_df= pd.read_csv(DATASET_CSV)\n",
    "# test_df.tail(10)"
   ]
  },
  {
   "cell_type": "markdown",
   "id": "e9b439fe",
   "metadata": {
    "papermill": {
     "duration": 0.008644,
     "end_time": "2024-02-29T09:17:49.964808",
     "exception": false,
     "start_time": "2024-02-29T09:17:49.956164",
     "status": "completed"
    },
    "tags": []
   },
   "source": [
    "## 1.1 Split Cells With Multiple Lines"
   ]
  },
  {
   "cell_type": "code",
   "execution_count": 6,
   "id": "e94e21c9",
   "metadata": {
    "execution": {
     "iopub.execute_input": "2024-02-29T09:17:49.987583Z",
     "iopub.status.busy": "2024-02-29T09:17:49.986392Z",
     "iopub.status.idle": "2024-02-29T09:17:53.722319Z",
     "shell.execute_reply": "2024-02-29T09:17:53.721526Z"
    },
    "papermill": {
     "duration": 3.750847,
     "end_time": "2024-02-29T09:17:53.724569",
     "exception": false,
     "start_time": "2024-02-29T09:17:49.973722",
     "status": "completed"
    },
    "tags": []
   },
   "outputs": [],
   "source": [
    "def split_lines(row):\n",
    "    lines = row['Contents'].split('\\n')\n",
    "    index = [row.name] * len(lines)  # Duplicate index for each line\n",
    "    return pd.DataFrame({'Index': index, 'District': row['District'], 'Contents': lines})\n",
    "\n",
    "test_df = pd.concat([split_lines(row) for _, row in test_df.iterrows()], ignore_index=True)\n",
    "# test_df.tail(10)"
   ]
  },
  {
   "cell_type": "markdown",
   "id": "a9c62a81",
   "metadata": {
    "papermill": {
     "duration": 0.008216,
     "end_time": "2024-02-29T09:17:53.741472",
     "exception": false,
     "start_time": "2024-02-29T09:17:53.733256",
     "status": "completed"
    },
    "tags": []
   },
   "source": [
    "## 1.2 Add Punctuation Where Not"
   ]
  },
  {
   "cell_type": "code",
   "execution_count": 7,
   "id": "b95574dd",
   "metadata": {
    "execution": {
     "iopub.execute_input": "2024-02-29T09:17:53.760010Z",
     "iopub.status.busy": "2024-02-29T09:17:53.759315Z",
     "iopub.status.idle": "2024-02-29T09:17:53.776825Z",
     "shell.execute_reply": "2024-02-29T09:17:53.775960Z"
    },
    "papermill": {
     "duration": 0.028946,
     "end_time": "2024-02-29T09:17:53.778797",
     "exception": false,
     "start_time": "2024-02-29T09:17:53.749851",
     "status": "completed"
    },
    "tags": []
   },
   "outputs": [],
   "source": [
    "punctuation_marks = [',', '?', '।', '!','\"']\n",
    "indices_to_append_period = test_df[~test_df['Contents'].str.endswith(tuple(punctuation_marks))].index\n",
    "test_df.loc[indices_to_append_period, 'Contents'] += '।'\n",
    "# test_df.tail(10)"
   ]
  },
  {
   "cell_type": "code",
   "execution_count": 8,
   "id": "4667b922",
   "metadata": {
    "execution": {
     "iopub.execute_input": "2024-02-29T09:17:53.796698Z",
     "iopub.status.busy": "2024-02-29T09:17:53.796374Z",
     "iopub.status.idle": "2024-02-29T09:17:53.800228Z",
     "shell.execute_reply": "2024-02-29T09:17:53.799407Z"
    },
    "papermill": {
     "duration": 0.015201,
     "end_time": "2024-02-29T09:17:53.802291",
     "exception": false,
     "start_time": "2024-02-29T09:17:53.787090",
     "status": "completed"
    },
    "tags": []
   },
   "outputs": [],
   "source": [
    "# indices_to_append_period"
   ]
  },
  {
   "cell_type": "markdown",
   "id": "578a6009",
   "metadata": {
    "papermill": {
     "duration": 0.008145,
     "end_time": "2024-02-29T09:17:53.818895",
     "exception": false,
     "start_time": "2024-02-29T09:17:53.810750",
     "status": "completed"
    },
    "tags": []
   },
   "source": [
    "# 2. Output From Model"
   ]
  },
  {
   "cell_type": "markdown",
   "id": "89d33e57",
   "metadata": {
    "papermill": {
     "duration": 0.008148,
     "end_time": "2024-02-29T09:17:53.835455",
     "exception": false,
     "start_time": "2024-02-29T09:17:53.827307",
     "status": "completed"
    },
    "tags": []
   },
   "source": [
    "Our trained model is uploaded in hugging-face can be accessed through this link: https://huggingface.co/abdullaharean/regipa_bangla"
   ]
  },
  {
   "cell_type": "code",
   "execution_count": 9,
   "id": "af85270c",
   "metadata": {
    "execution": {
     "iopub.execute_input": "2024-02-29T09:17:53.853309Z",
     "iopub.status.busy": "2024-02-29T09:17:53.852858Z",
     "iopub.status.idle": "2024-02-29T09:18:19.496430Z",
     "shell.execute_reply": "2024-02-29T09:18:19.495420Z"
    },
    "papermill": {
     "duration": 25.655074,
     "end_time": "2024-02-29T09:18:19.498835",
     "exception": false,
     "start_time": "2024-02-29T09:17:53.843761",
     "status": "completed"
    },
    "tags": []
   },
   "outputs": [
    {
     "data": {
      "application/vnd.jupyter.widget-view+json": {
       "model_id": "fe68f2732d15473aa0a4aeeaa4a67f64",
       "version_major": 2,
       "version_minor": 0
      },
      "text/plain": [
       "tokenizer_config.json:   0%|          | 0.00/25.6k [00:00<?, ?B/s]"
      ]
     },
     "metadata": {},
     "output_type": "display_data"
    },
    {
     "data": {
      "application/vnd.jupyter.widget-view+json": {
       "model_id": "0d279d20a3564b5db369c82154b228e5",
       "version_major": 2,
       "version_minor": 0
      },
      "text/plain": [
       "added_tokens.json:   0%|          | 0.00/3.02k [00:00<?, ?B/s]"
      ]
     },
     "metadata": {},
     "output_type": "display_data"
    },
    {
     "data": {
      "application/vnd.jupyter.widget-view+json": {
       "model_id": "621e38dba5b84711afb77f5653535586",
       "version_major": 2,
       "version_minor": 0
      },
      "text/plain": [
       "special_tokens_map.json:   0%|          | 0.00/3.09k [00:00<?, ?B/s]"
      ]
     },
     "metadata": {},
     "output_type": "display_data"
    },
    {
     "name": "stderr",
     "output_type": "stream",
     "text": [
      "Special tokens have been added in the vocabulary, make sure the associated word embeddings are fine-tuned or trained.\n"
     ]
    },
    {
     "data": {
      "application/vnd.jupyter.widget-view+json": {
       "model_id": "d33fcb658307427f9d81fb6af094da76",
       "version_major": 2,
       "version_minor": 0
      },
      "text/plain": [
       "config.json:   0%|          | 0.00/837 [00:00<?, ?B/s]"
      ]
     },
     "metadata": {},
     "output_type": "display_data"
    },
    {
     "data": {
      "application/vnd.jupyter.widget-view+json": {
       "model_id": "7db5556404424680970c3dc284d8b9d9",
       "version_major": 2,
       "version_minor": 0
      },
      "text/plain": [
       "model.safetensors:   0%|          | 0.00/1.20G [00:00<?, ?B/s]"
      ]
     },
     "metadata": {},
     "output_type": "display_data"
    },
    {
     "data": {
      "application/vnd.jupyter.widget-view+json": {
       "model_id": "77e00ef5a96c4cd5b98303c9d2781255",
       "version_major": 2,
       "version_minor": 0
      },
      "text/plain": [
       "generation_config.json:   0%|          | 0.00/142 [00:00<?, ?B/s]"
      ]
     },
     "metadata": {},
     "output_type": "display_data"
    }
   ],
   "source": [
    "model_directory = MODEL_DIRECTORY\n",
    "tokenizer = AutoTokenizer.from_pretrained(model_directory)\n",
    "model = AutoModelForSeq2SeqLM.from_pretrained(model_directory)\n",
    "torch_device='cuda'\n",
    "model = model.to(torch_device)\n",
    "model = model.eval()"
   ]
  },
  {
   "cell_type": "code",
   "execution_count": 10,
   "id": "30e22a86",
   "metadata": {
    "execution": {
     "iopub.execute_input": "2024-02-29T09:18:19.520112Z",
     "iopub.status.busy": "2024-02-29T09:18:19.519792Z",
     "iopub.status.idle": "2024-02-29T09:18:19.525892Z",
     "shell.execute_reply": "2024-02-29T09:18:19.524991Z"
    },
    "papermill": {
     "duration": 0.018455,
     "end_time": "2024-02-29T09:18:19.527800",
     "exception": false,
     "start_time": "2024-02-29T09:18:19.509345",
     "status": "completed"
    },
    "tags": []
   },
   "outputs": [],
   "source": [
    "def calc_token_len(example):\n",
    "    return len(tokenizer(example).input_ids)\n",
    "\n",
    "def ipa_converter(input_texts, num_return_sequences, input_len):\n",
    "    input_len = max(input_len)\n",
    "    batch = tokenizer(input_texts, truncation=True, padding='max_length', max_length=input_len, return_tensors=\"pt\").to(torch_device)\n",
    "    translated = model.generate(**batch, max_length=input_len, num_beams=4, num_return_sequences=num_return_sequences, temperature=1.5)\n",
    "    tgt_texts = tokenizer.batch_decode(translated, skip_special_tokens=True)\n",
    "    \n",
    "    return tgt_texts\n"
   ]
  },
  {
   "cell_type": "code",
   "execution_count": 11,
   "id": "b37a601d",
   "metadata": {
    "execution": {
     "iopub.execute_input": "2024-02-29T09:18:19.547528Z",
     "iopub.status.busy": "2024-02-29T09:18:19.547266Z",
     "iopub.status.idle": "2024-02-29T09:40:21.754588Z",
     "shell.execute_reply": "2024-02-29T09:40:21.753077Z"
    },
    "papermill": {
     "duration": 1322.21937,
     "end_time": "2024-02-29T09:40:21.756632",
     "exception": false,
     "start_time": "2024-02-29T09:18:19.537262",
     "status": "completed"
    },
    "tags": []
   },
   "outputs": [
    {
     "name": "stderr",
     "output_type": "stream",
     "text": [
      "  0%|          | 0/142 [00:00<?, ?it/s]/opt/conda/lib/python3.10/site-packages/transformers/generation/configuration_utils.py:392: UserWarning: `do_sample` is set to `False`. However, `temperature` is set to `1.5` -- this flag is only used in sample-based generation modes. You should set `do_sample=True` or unset `temperature`.\n",
      "  warnings.warn(\n",
      "100%|██████████| 142/142 [22:00<00:00,  9.30s/it]\n"
     ]
    }
   ],
   "source": [
    "test_df['input_token_len'] = test_df['Contents'].apply(calc_token_len)\n",
    "texts = test_df[\"Contents\"].tolist()\n",
    "lengths = test_df[\"input_token_len\"].tolist()\n",
    "input_data = list(zip(texts, lengths))\n",
    "\n",
    "ipa_texts = []\n",
    "batch_size = 64  # You can adjust the batch size based on your system's memory constraints\n",
    "\n",
    "for i in tqdm(range(0, len(input_data), batch_size)):\n",
    "    batch = input_data[i:i+batch_size]\n",
    "    batch_texts, batch_lengths = zip(*batch)  # Unpack the tuples\n",
    "    \n",
    "    # Ensure that batch_lengths are integers\n",
    "    batch_lengths = list(map(int, batch_lengths))\n",
    "    \n",
    "    ipa_batch = ipa_converter(batch_texts, 1, batch_lengths)\n",
    "#     print(ipa_batch)\n",
    "    ipa_texts.extend(ipa_batch)\n",
    "test_df.drop(columns=['input_token_len'], inplace=True)"
   ]
  },
  {
   "cell_type": "markdown",
   "id": "9a99501b",
   "metadata": {
    "papermill": {
     "duration": 0.020639,
     "end_time": "2024-02-29T09:40:21.798996",
     "exception": false,
     "start_time": "2024-02-29T09:40:21.778357",
     "status": "completed"
    },
    "tags": []
   },
   "source": [
    "# 3. Postproessing"
   ]
  },
  {
   "cell_type": "code",
   "execution_count": 12,
   "id": "48059002",
   "metadata": {
    "execution": {
     "iopub.execute_input": "2024-02-29T09:40:21.841876Z",
     "iopub.status.busy": "2024-02-29T09:40:21.841498Z",
     "iopub.status.idle": "2024-02-29T09:40:21.845512Z",
     "shell.execute_reply": "2024-02-29T09:40:21.844715Z"
    },
    "papermill": {
     "duration": 0.027521,
     "end_time": "2024-02-29T09:40:21.847277",
     "exception": false,
     "start_time": "2024-02-29T09:40:21.819756",
     "status": "completed"
    },
    "tags": []
   },
   "outputs": [],
   "source": [
    "# ipa_texts"
   ]
  },
  {
   "cell_type": "code",
   "execution_count": 13,
   "id": "5109e633",
   "metadata": {
    "execution": {
     "iopub.execute_input": "2024-02-29T09:40:21.890190Z",
     "iopub.status.busy": "2024-02-29T09:40:21.889895Z",
     "iopub.status.idle": "2024-02-29T09:40:21.896107Z",
     "shell.execute_reply": "2024-02-29T09:40:21.895243Z"
    },
    "papermill": {
     "duration": 0.030348,
     "end_time": "2024-02-29T09:40:21.898035",
     "exception": false,
     "start_time": "2024-02-29T09:40:21.867687",
     "status": "completed"
    },
    "tags": []
   },
   "outputs": [],
   "source": [
    "result_df = test_df.copy()\n",
    "result_df['string']= ipa_texts\n",
    "# result_df.tail(10)"
   ]
  },
  {
   "cell_type": "markdown",
   "id": "3876c273",
   "metadata": {
    "papermill": {
     "duration": 0.020082,
     "end_time": "2024-02-29T09:40:21.938456",
     "exception": false,
     "start_time": "2024-02-29T09:40:21.918374",
     "status": "completed"
    },
    "tags": []
   },
   "source": [
    "## 3.1 Post Process Remove '|'"
   ]
  },
  {
   "cell_type": "code",
   "execution_count": 14,
   "id": "4faa3504",
   "metadata": {
    "execution": {
     "iopub.execute_input": "2024-02-29T09:40:21.980557Z",
     "iopub.status.busy": "2024-02-29T09:40:21.980276Z",
     "iopub.status.idle": "2024-02-29T09:40:21.986768Z",
     "shell.execute_reply": "2024-02-29T09:40:21.985862Z"
    },
    "papermill": {
     "duration": 0.029544,
     "end_time": "2024-02-29T09:40:21.988586",
     "exception": false,
     "start_time": "2024-02-29T09:40:21.959042",
     "status": "completed"
    },
    "tags": []
   },
   "outputs": [],
   "source": [
    "result_df.loc[indices_to_append_period, 'string'] = result_df.loc[indices_to_append_period, 'string'].str.rstrip('।')\n",
    "# result_df.tail(10)"
   ]
  },
  {
   "cell_type": "markdown",
   "id": "51a42988",
   "metadata": {
    "papermill": {
     "duration": 0.020527,
     "end_time": "2024-02-29T09:40:22.029468",
     "exception": false,
     "start_time": "2024-02-29T09:40:22.008941",
     "status": "completed"
    },
    "tags": []
   },
   "source": [
    "## 3.2 Group Splitted Cells"
   ]
  },
  {
   "cell_type": "code",
   "execution_count": 15,
   "id": "e5d46831",
   "metadata": {
    "execution": {
     "iopub.execute_input": "2024-02-29T09:40:22.072150Z",
     "iopub.status.busy": "2024-02-29T09:40:22.071805Z",
     "iopub.status.idle": "2024-02-29T09:40:22.354433Z",
     "shell.execute_reply": "2024-02-29T09:40:22.353494Z"
    },
    "papermill": {
     "duration": 0.305886,
     "end_time": "2024-02-29T09:40:22.356609",
     "exception": false,
     "start_time": "2024-02-29T09:40:22.050723",
     "status": "completed"
    },
    "tags": []
   },
   "outputs": [],
   "source": [
    "result_df = result_df.groupby(['Index', 'District'])['string'].apply('\\n'.join).reset_index()\n",
    "result_df['id'] = result_df['Index']\n",
    "result_df.drop(columns=['Index', 'District'], inplace=True)\n",
    "result_df = result_df[['id', 'string']]\n",
    "# result_df.tail(10)"
   ]
  },
  {
   "cell_type": "markdown",
   "id": "95082198",
   "metadata": {
    "papermill": {
     "duration": 0.020379,
     "end_time": "2024-02-29T09:40:22.397545",
     "exception": false,
     "start_time": "2024-02-29T09:40:22.377166",
     "status": "completed"
    },
    "tags": []
   },
   "source": [
    "## 3.3 Rectify Errors Around Punctuation (Working Like a charm)"
   ]
  },
  {
   "cell_type": "code",
   "execution_count": 16,
   "id": "202f850d",
   "metadata": {
    "execution": {
     "iopub.execute_input": "2024-02-29T09:40:22.439415Z",
     "iopub.status.busy": "2024-02-29T09:40:22.439128Z",
     "iopub.status.idle": "2024-02-29T09:40:22.451463Z",
     "shell.execute_reply": "2024-02-29T09:40:22.450616Z"
    },
    "papermill": {
     "duration": 0.035235,
     "end_time": "2024-02-29T09:40:22.453219",
     "exception": false,
     "start_time": "2024-02-29T09:40:22.417984",
     "status": "completed"
    },
    "tags": []
   },
   "outputs": [],
   "source": [
    "def word_count(sentence):\n",
    "    words = sentence.split()\n",
    "    return len(words)\n",
    "def find_and_get_neighbors(s, symbol):\n",
    "    index = s.find(symbol)\n",
    "    if index != -1:\n",
    "        before = s[index - 1] if index - 1 >= 0 else None\n",
    "        after = s[index + 1] if index + 1 < len(s) else None\n",
    "        return before, after, index\n",
    "    else:\n",
    "        return None, None, None\n",
    "def rewrite_sentence(sentence, final):\n",
    "    output = \"\"\n",
    "    list0 = [',', '?', '<>', '।', '!','\"']\n",
    "    list1 = [' ', '\\n']\n",
    "    final_copy = final  # Make a copy to manipulate\n",
    "    for char in sentence:\n",
    "        if char in list0:\n",
    "            before, after, index = find_and_get_neighbors(final_copy, char)\n",
    "            if before in list1 and not final_copy.endswith(before):  # Corrected syntax here\n",
    "                output += before\n",
    "            output += char\n",
    "            if after in list1:\n",
    "                output += after\n",
    "            if index is not None:\n",
    "                final_copy = final_copy[:index-1] + final_copy[index+1:]  # Remove char and its preceding character\n",
    "        else:\n",
    "            if output.endswith(char) and char in list1:\n",
    "                pass\n",
    "            else:\n",
    "                output += char\n",
    "    return output\n",
    "def special_postprocess1(df, test_df):\n",
    "    temp_df = df.copy()\n",
    "    \n",
    "    temp_df['Contents']=test_df['Contents']\n",
    "    temp_df['Count_Contents'] = temp_df['Contents'].apply(lambda x: word_count(x))\n",
    "    temp_df['Count_string'] = temp_df['string'].apply(lambda x: word_count(x))\n",
    "    \n",
    "    unequal_rows = temp_df[temp_df['Count_Contents'] != temp_df['Count_string']]\n",
    "    print(f\"PostProcessing1: There are {len(unequal_rows)} rows having different word count in Content and IPA!\\nRectifying...\")\n",
    "    \n",
    "    for index, row in unequal_rows.iterrows():\n",
    "        idtochange = row['id']\n",
    "        temp_df.loc[idtochange, 'string'] = rewrite_sentence(temp_df.loc[idtochange, 'string'], temp_df.loc[row['id'], 'Contents'])\n",
    "    \n",
    "    temp_df.drop(columns=['Contents','Count_Contents','Count_string'], inplace=True)\n",
    "    return temp_df\n"
   ]
  },
  {
   "cell_type": "markdown",
   "id": "1e6779be",
   "metadata": {
    "papermill": {
     "duration": 0.020376,
     "end_time": "2024-02-29T09:40:22.493914",
     "exception": false,
     "start_time": "2024-02-29T09:40:22.473538",
     "status": "completed"
    },
    "tags": []
   },
   "source": [
    "## 3.4 Word By Word IPA (Still Not Improving Score)"
   ]
  },
  {
   "cell_type": "code",
   "execution_count": 17,
   "id": "4c3c7a03",
   "metadata": {
    "execution": {
     "iopub.execute_input": "2024-02-29T09:40:22.536125Z",
     "iopub.status.busy": "2024-02-29T09:40:22.535585Z",
     "iopub.status.idle": "2024-02-29T09:40:22.547792Z",
     "shell.execute_reply": "2024-02-29T09:40:22.546963Z"
    },
    "papermill": {
     "duration": 0.035452,
     "end_time": "2024-02-29T09:40:22.549598",
     "exception": false,
     "start_time": "2024-02-29T09:40:22.514146",
     "status": "completed"
    },
    "tags": []
   },
   "outputs": [],
   "source": [
    "def word_to_ipa(input_text,model_directory=MODEL_DIRECTORY):\n",
    "    tokenizer = AutoTokenizer.from_pretrained(model_directory)\n",
    "    model = AutoModelForSeq2SeqLM.from_pretrained(model_directory)\n",
    "    torch_device = 'cuda' if torch.cuda.is_available() else 'cpu'\n",
    "    model = model.to(torch_device)\n",
    "    model = model.eval()\n",
    "    \n",
    "    input_ids = tokenizer(input_text, return_tensors=\"pt\").input_ids.to(torch_device)\n",
    "    ipa_sequences = model.generate(input_ids)\n",
    "    ipa_texts = tokenizer.batch_decode(ipa_sequences, skip_special_tokens=True)\n",
    "    ipa = ipa_texts[0] if ipa_texts else None\n",
    "    \n",
    "    return ipa\n",
    "def bangla_to_ipa(text, model_directory=MODEL_DIRECTORY):\n",
    "    print(text)\n",
    "    lines = text.splitlines()\n",
    "    ipa_lines = []\n",
    "\n",
    "    for line in lines:\n",
    "        words = line.split()\n",
    "        ipa_text = ''\n",
    "        special_characters = [',', '?', '<>', '।', '!', ' ', '\\n']\n",
    "        \n",
    "        for word in words:\n",
    "            if word in special_characters:\n",
    "                ipa_text += word\n",
    "            else:\n",
    "                ipa_text += word_to_ipa(word, model_directory)\n",
    "            ipa_text += \" \"\n",
    "\n",
    "        ipa_lines.append(ipa_text.rstrip())  # Remove trailing whitespace\n",
    "\n",
    "    return '\\n'.join(ipa_lines)\n",
    "def special_postprocess2(df, test_df,model_directory=MODEL_DIRECTORY):\n",
    "    final_df = df.copy()\n",
    "    final_df['Contents'] = test_df['Contents']\n",
    "    final_df['District'] = test_df['District']\n",
    "    final_df['Count_Contents'] = final_df['Contents'].apply(word_count)\n",
    "    final_df['Count_string'] = final_df['string'].apply(word_count)\n",
    "    unequal_rows = final_df[final_df['Count_Contents'] != final_df['Count_string']]\n",
    "    index = 0\n",
    "    print(f\"PostProcessing1: There are {len(unequal_rows)} rows having different word count in Content and IPA!\\nRectifying...\")\n",
    "    for _, row in unequal_rows.iterrows():\n",
    "        index += 1\n",
    "        final_df.loc[row['id'], 'string'] = bangla_to_ipa(final_df.loc[row['id'], 'Contents'], model_directory)\n",
    "        print(final_df.at[row['id'], 'string'])\n",
    "    final_df.drop(columns=['Contents','Count_Contents','Count_string','District'], inplace=True)\n",
    "    return final_df"
   ]
  },
  {
   "cell_type": "markdown",
   "id": "c9c2aa27",
   "metadata": {
    "papermill": {
     "duration": 0.020227,
     "end_time": "2024-02-29T09:40:22.590088",
     "exception": false,
     "start_time": "2024-02-29T09:40:22.569861",
     "status": "completed"
    },
    "tags": []
   },
   "source": [
    "# 4. Submission"
   ]
  },
  {
   "cell_type": "code",
   "execution_count": 18,
   "id": "de664538",
   "metadata": {
    "execution": {
     "iopub.execute_input": "2024-02-29T09:40:22.631632Z",
     "iopub.status.busy": "2024-02-29T09:40:22.631356Z",
     "iopub.status.idle": "2024-02-29T09:40:22.772789Z",
     "shell.execute_reply": "2024-02-29T09:40:22.771923Z"
    },
    "papermill": {
     "duration": 0.164528,
     "end_time": "2024-02-29T09:40:22.774785",
     "exception": false,
     "start_time": "2024-02-29T09:40:22.610257",
     "status": "completed"
    },
    "tags": []
   },
   "outputs": [],
   "source": [
    "# result_df.to_csv('submission.csv', index=False)\n",
    "dataset_csv = pd.read_csv(DATASET_CSV)\n",
    "pp1_result_df = special_postprocess1(result_df, dataset_csv)\n",
    "pp1_result_df.to_csv('team_khita_kortesi_submission.csv', index=False)\n",
    "\n",
    "# pp2_result_df = special_postprocess2(pp1_result_df, dataset_csv,MODEL_DIRECTORY)\n",
    "# pp2_result_df.to_csv('submission_pp2.csv', index=False)\n",
    "\n",
    "clear_output()"
   ]
  },
  {
   "cell_type": "code",
   "execution_count": 19,
   "id": "522c26db",
   "metadata": {
    "execution": {
     "iopub.execute_input": "2024-02-29T09:40:22.817610Z",
     "iopub.status.busy": "2024-02-29T09:40:22.817333Z",
     "iopub.status.idle": "2024-02-29T09:40:22.821372Z",
     "shell.execute_reply": "2024-02-29T09:40:22.820339Z"
    },
    "papermill": {
     "duration": 0.027763,
     "end_time": "2024-02-29T09:40:22.823399",
     "exception": false,
     "start_time": "2024-02-29T09:40:22.795636",
     "status": "completed"
    },
    "tags": []
   },
   "outputs": [],
   "source": [
    "# result_df.tail(10)"
   ]
  },
  {
   "cell_type": "code",
   "execution_count": 20,
   "id": "a304c03f",
   "metadata": {
    "execution": {
     "iopub.execute_input": "2024-02-29T09:40:22.865797Z",
     "iopub.status.busy": "2024-02-29T09:40:22.865096Z",
     "iopub.status.idle": "2024-02-29T09:40:22.868993Z",
     "shell.execute_reply": "2024-02-29T09:40:22.867987Z"
    },
    "papermill": {
     "duration": 0.026973,
     "end_time": "2024-02-29T09:40:22.870842",
     "exception": false,
     "start_time": "2024-02-29T09:40:22.843869",
     "status": "completed"
    },
    "tags": []
   },
   "outputs": [],
   "source": [
    "# pp1_result_df.tail(10)"
   ]
  },
  {
   "cell_type": "code",
   "execution_count": 21,
   "id": "67f8e450",
   "metadata": {
    "execution": {
     "iopub.execute_input": "2024-02-29T09:40:22.912935Z",
     "iopub.status.busy": "2024-02-29T09:40:22.912667Z",
     "iopub.status.idle": "2024-02-29T09:40:22.916200Z",
     "shell.execute_reply": "2024-02-29T09:40:22.915359Z"
    },
    "papermill": {
     "duration": 0.026647,
     "end_time": "2024-02-29T09:40:22.918030",
     "exception": false,
     "start_time": "2024-02-29T09:40:22.891383",
     "status": "completed"
    },
    "tags": []
   },
   "outputs": [],
   "source": [
    "# pp2_result_df.tail(10)"
   ]
  },
  {
   "cell_type": "code",
   "execution_count": null,
   "id": "4d3c2cb8",
   "metadata": {
    "papermill": {
     "duration": 0.020384,
     "end_time": "2024-02-29T09:40:22.958912",
     "exception": false,
     "start_time": "2024-02-29T09:40:22.938528",
     "status": "completed"
    },
    "tags": []
   },
   "outputs": [],
   "source": []
  }
 ],
 "metadata": {
  "kaggle": {
   "accelerator": "gpu",
   "dataSources": [
    {
     "databundleVersionId": 7743921,
     "sourceId": 70573,
     "sourceType": "competition"
    }
   ],
   "dockerImageVersionId": 30648,
   "isGpuEnabled": true,
   "isInternetEnabled": true,
   "language": "python",
   "sourceType": "notebook"
  },
  "kernelspec": {
   "display_name": "Python 3",
   "language": "python",
   "name": "python3"
  },
  "language_info": {
   "codemirror_mode": {
    "name": "ipython",
    "version": 3
   },
   "file_extension": ".py",
   "mimetype": "text/x-python",
   "name": "python",
   "nbconvert_exporter": "python",
   "pygments_lexer": "ipython3",
   "version": "3.10.13"
  },
  "papermill": {
   "default_parameters": {},
   "duration": 1392.757027,
   "end_time": "2024-02-29T09:40:25.667806",
   "environment_variables": {},
   "exception": null,
   "input_path": "__notebook__.ipynb",
   "output_path": "__notebook__.ipynb",
   "parameters": {},
   "start_time": "2024-02-29T09:17:12.910779",
   "version": "2.5.0"
  },
  "widgets": {
   "application/vnd.jupyter.widget-state+json": {
    "state": {
     "05676281ffa84986b8e0b57bfbfd0e89": {
      "model_module": "@jupyter-widgets/controls",
      "model_module_version": "1.5.0",
      "model_name": "HTMLModel",
      "state": {
       "_dom_classes": [],
       "_model_module": "@jupyter-widgets/controls",
       "_model_module_version": "1.5.0",
       "_model_name": "HTMLModel",
       "_view_count": null,
       "_view_module": "@jupyter-widgets/controls",
       "_view_module_version": "1.5.0",
       "_view_name": "HTMLView",
       "description": "",
       "description_tooltip": null,
       "layout": "IPY_MODEL_f232003348e742d0813ca47811e5fd90",
       "placeholder": "​",
       "style": "IPY_MODEL_a20676e40b944e609f5c57a7352b4c14",
       "value": "special_tokens_map.json: 100%"
      }
     },
     "0a81b9972d6a4992bc644c816b38894f": {
      "model_module": "@jupyter-widgets/controls",
      "model_module_version": "1.5.0",
      "model_name": "ProgressStyleModel",
      "state": {
       "_model_module": "@jupyter-widgets/controls",
       "_model_module_version": "1.5.0",
       "_model_name": "ProgressStyleModel",
       "_view_count": null,
       "_view_module": "@jupyter-widgets/base",
       "_view_module_version": "1.2.0",
       "_view_name": "StyleView",
       "bar_color": null,
       "description_width": ""
      }
     },
     "0d279d20a3564b5db369c82154b228e5": {
      "model_module": "@jupyter-widgets/controls",
      "model_module_version": "1.5.0",
      "model_name": "HBoxModel",
      "state": {
       "_dom_classes": [],
       "_model_module": "@jupyter-widgets/controls",
       "_model_module_version": "1.5.0",
       "_model_name": "HBoxModel",
       "_view_count": null,
       "_view_module": "@jupyter-widgets/controls",
       "_view_module_version": "1.5.0",
       "_view_name": "HBoxView",
       "box_style": "",
       "children": [
        "IPY_MODEL_b2e8e7150aad42579456e7e8c90189cd",
        "IPY_MODEL_adc60c42e5814d1495feacfdb838405b",
        "IPY_MODEL_116118ba9b684b75b299368f7b0b24bc"
       ],
       "layout": "IPY_MODEL_75e65d0ac8cb4810a9bc42b38e690888"
      }
     },
     "0e71291b9bfd435ca94b2f3ae41eecd5": {
      "model_module": "@jupyter-widgets/controls",
      "model_module_version": "1.5.0",
      "model_name": "HTMLModel",
      "state": {
       "_dom_classes": [],
       "_model_module": "@jupyter-widgets/controls",
       "_model_module_version": "1.5.0",
       "_model_name": "HTMLModel",
       "_view_count": null,
       "_view_module": "@jupyter-widgets/controls",
       "_view_module_version": "1.5.0",
       "_view_name": "HTMLView",
       "description": "",
       "description_tooltip": null,
       "layout": "IPY_MODEL_ccc2863e90ec4feda7b8a55b969f7351",
       "placeholder": "​",
       "style": "IPY_MODEL_53dde31d8cb54cd1948e7898231e8999",
       "value": " 1.20G/1.20G [00:23&lt;00:00, 55.1MB/s]"
      }
     },
     "116118ba9b684b75b299368f7b0b24bc": {
      "model_module": "@jupyter-widgets/controls",
      "model_module_version": "1.5.0",
      "model_name": "HTMLModel",
      "state": {
       "_dom_classes": [],
       "_model_module": "@jupyter-widgets/controls",
       "_model_module_version": "1.5.0",
       "_model_name": "HTMLModel",
       "_view_count": null,
       "_view_module": "@jupyter-widgets/controls",
       "_view_module_version": "1.5.0",
       "_view_name": "HTMLView",
       "description": "",
       "description_tooltip": null,
       "layout": "IPY_MODEL_35363056a6dd46dcb6cd43a028afda01",
       "placeholder": "​",
       "style": "IPY_MODEL_68a8996fd6124313b9dc2a970826774f",
       "value": " 3.02k/3.02k [00:00&lt;00:00, 263kB/s]"
      }
     },
     "1a33adb2b29744679afb49ca0e4a8582": {
      "model_module": "@jupyter-widgets/controls",
      "model_module_version": "1.5.0",
      "model_name": "FloatProgressModel",
      "state": {
       "_dom_classes": [],
       "_model_module": "@jupyter-widgets/controls",
       "_model_module_version": "1.5.0",
       "_model_name": "FloatProgressModel",
       "_view_count": null,
       "_view_module": "@jupyter-widgets/controls",
       "_view_module_version": "1.5.0",
       "_view_name": "ProgressView",
       "bar_style": "success",
       "description": "",
       "description_tooltip": null,
       "layout": "IPY_MODEL_e8c016859a0e41e1bc84130d196e69fd",
       "max": 25571.0,
       "min": 0.0,
       "orientation": "horizontal",
       "style": "IPY_MODEL_0a81b9972d6a4992bc644c816b38894f",
       "value": 25571.0
      }
     },
     "1dada4134b0748b3bf2bc03017812ee1": {
      "model_module": "@jupyter-widgets/controls",
      "model_module_version": "1.5.0",
      "model_name": "DescriptionStyleModel",
      "state": {
       "_model_module": "@jupyter-widgets/controls",
       "_model_module_version": "1.5.0",
       "_model_name": "DescriptionStyleModel",
       "_view_count": null,
       "_view_module": "@jupyter-widgets/base",
       "_view_module_version": "1.2.0",
       "_view_name": "StyleView",
       "description_width": ""
      }
     },
     "20dd7990929147d7a9f6449a66dc5438": {
      "model_module": "@jupyter-widgets/controls",
      "model_module_version": "1.5.0",
      "model_name": "DescriptionStyleModel",
      "state": {
       "_model_module": "@jupyter-widgets/controls",
       "_model_module_version": "1.5.0",
       "_model_name": "DescriptionStyleModel",
       "_view_count": null,
       "_view_module": "@jupyter-widgets/base",
       "_view_module_version": "1.2.0",
       "_view_name": "StyleView",
       "description_width": ""
      }
     },
     "217cc93bbe994c0ba800579357c5bcc1": {
      "model_module": "@jupyter-widgets/controls",
      "model_module_version": "1.5.0",
      "model_name": "FloatProgressModel",
      "state": {
       "_dom_classes": [],
       "_model_module": "@jupyter-widgets/controls",
       "_model_module_version": "1.5.0",
       "_model_name": "FloatProgressModel",
       "_view_count": null,
       "_view_module": "@jupyter-widgets/controls",
       "_view_module_version": "1.5.0",
       "_view_name": "ProgressView",
       "bar_style": "success",
       "description": "",
       "description_tooltip": null,
       "layout": "IPY_MODEL_9b0487e66bf44721ade707b36a22454b",
       "max": 837.0,
       "min": 0.0,
       "orientation": "horizontal",
       "style": "IPY_MODEL_de0a44a261724aa7a07ad145e9e6b1bf",
       "value": 837.0
      }
     },
     "2a551317f7074588b0ca9ae891df6c71": {
      "model_module": "@jupyter-widgets/base",
      "model_module_version": "1.2.0",
      "model_name": "LayoutModel",
      "state": {
       "_model_module": "@jupyter-widgets/base",
       "_model_module_version": "1.2.0",
       "_model_name": "LayoutModel",
       "_view_count": null,
       "_view_module": "@jupyter-widgets/base",
       "_view_module_version": "1.2.0",
       "_view_name": "LayoutView",
       "align_content": null,
       "align_items": null,
       "align_self": null,
       "border": null,
       "bottom": null,
       "display": null,
       "flex": null,
       "flex_flow": null,
       "grid_area": null,
       "grid_auto_columns": null,
       "grid_auto_flow": null,
       "grid_auto_rows": null,
       "grid_column": null,
       "grid_gap": null,
       "grid_row": null,
       "grid_template_areas": null,
       "grid_template_columns": null,
       "grid_template_rows": null,
       "height": null,
       "justify_content": null,
       "justify_items": null,
       "left": null,
       "margin": null,
       "max_height": null,
       "max_width": null,
       "min_height": null,
       "min_width": null,
       "object_fit": null,
       "object_position": null,
       "order": null,
       "overflow": null,
       "overflow_x": null,
       "overflow_y": null,
       "padding": null,
       "right": null,
       "top": null,
       "visibility": null,
       "width": null
      }
     },
     "2d79a379d74048ffab13a2a255c0ab14": {
      "model_module": "@jupyter-widgets/controls",
      "model_module_version": "1.5.0",
      "model_name": "HTMLModel",
      "state": {
       "_dom_classes": [],
       "_model_module": "@jupyter-widgets/controls",
       "_model_module_version": "1.5.0",
       "_model_name": "HTMLModel",
       "_view_count": null,
       "_view_module": "@jupyter-widgets/controls",
       "_view_module_version": "1.5.0",
       "_view_name": "HTMLView",
       "description": "",
       "description_tooltip": null,
       "layout": "IPY_MODEL_2a551317f7074588b0ca9ae891df6c71",
       "placeholder": "​",
       "style": "IPY_MODEL_e133a79ecd6e4d0d8520b2df718ec5f7",
       "value": "config.json: 100%"
      }
     },
     "2ff4211798094089861aa04909ea9f22": {
      "model_module": "@jupyter-widgets/base",
      "model_module_version": "1.2.0",
      "model_name": "LayoutModel",
      "state": {
       "_model_module": "@jupyter-widgets/base",
       "_model_module_version": "1.2.0",
       "_model_name": "LayoutModel",
       "_view_count": null,
       "_view_module": "@jupyter-widgets/base",
       "_view_module_version": "1.2.0",
       "_view_name": "LayoutView",
       "align_content": null,
       "align_items": null,
       "align_self": null,
       "border": null,
       "bottom": null,
       "display": null,
       "flex": null,
       "flex_flow": null,
       "grid_area": null,
       "grid_auto_columns": null,
       "grid_auto_flow": null,
       "grid_auto_rows": null,
       "grid_column": null,
       "grid_gap": null,
       "grid_row": null,
       "grid_template_areas": null,
       "grid_template_columns": null,
       "grid_template_rows": null,
       "height": null,
       "justify_content": null,
       "justify_items": null,
       "left": null,
       "margin": null,
       "max_height": null,
       "max_width": null,
       "min_height": null,
       "min_width": null,
       "object_fit": null,
       "object_position": null,
       "order": null,
       "overflow": null,
       "overflow_x": null,
       "overflow_y": null,
       "padding": null,
       "right": null,
       "top": null,
       "visibility": null,
       "width": null
      }
     },
     "32b76e3483c9414e9936256e983de09a": {
      "model_module": "@jupyter-widgets/controls",
      "model_module_version": "1.5.0",
      "model_name": "ProgressStyleModel",
      "state": {
       "_model_module": "@jupyter-widgets/controls",
       "_model_module_version": "1.5.0",
       "_model_name": "ProgressStyleModel",
       "_view_count": null,
       "_view_module": "@jupyter-widgets/base",
       "_view_module_version": "1.2.0",
       "_view_name": "StyleView",
       "bar_color": null,
       "description_width": ""
      }
     },
     "35363056a6dd46dcb6cd43a028afda01": {
      "model_module": "@jupyter-widgets/base",
      "model_module_version": "1.2.0",
      "model_name": "LayoutModel",
      "state": {
       "_model_module": "@jupyter-widgets/base",
       "_model_module_version": "1.2.0",
       "_model_name": "LayoutModel",
       "_view_count": null,
       "_view_module": "@jupyter-widgets/base",
       "_view_module_version": "1.2.0",
       "_view_name": "LayoutView",
       "align_content": null,
       "align_items": null,
       "align_self": null,
       "border": null,
       "bottom": null,
       "display": null,
       "flex": null,
       "flex_flow": null,
       "grid_area": null,
       "grid_auto_columns": null,
       "grid_auto_flow": null,
       "grid_auto_rows": null,
       "grid_column": null,
       "grid_gap": null,
       "grid_row": null,
       "grid_template_areas": null,
       "grid_template_columns": null,
       "grid_template_rows": null,
       "height": null,
       "justify_content": null,
       "justify_items": null,
       "left": null,
       "margin": null,
       "max_height": null,
       "max_width": null,
       "min_height": null,
       "min_width": null,
       "object_fit": null,
       "object_position": null,
       "order": null,
       "overflow": null,
       "overflow_x": null,
       "overflow_y": null,
       "padding": null,
       "right": null,
       "top": null,
       "visibility": null,
       "width": null
      }
     },
     "406b716b9efd4a01971950f637f0bb28": {
      "model_module": "@jupyter-widgets/controls",
      "model_module_version": "1.5.0",
      "model_name": "FloatProgressModel",
      "state": {
       "_dom_classes": [],
       "_model_module": "@jupyter-widgets/controls",
       "_model_module_version": "1.5.0",
       "_model_name": "FloatProgressModel",
       "_view_count": null,
       "_view_module": "@jupyter-widgets/controls",
       "_view_module_version": "1.5.0",
       "_view_name": "ProgressView",
       "bar_style": "success",
       "description": "",
       "description_tooltip": null,
       "layout": "IPY_MODEL_fb7272ffdf394b3f86c46d26155d708c",
       "max": 1198571496.0,
       "min": 0.0,
       "orientation": "horizontal",
       "style": "IPY_MODEL_32b76e3483c9414e9936256e983de09a",
       "value": 1198571496.0
      }
     },
     "4b5edcb2ce6d4fdcb36478a93d70d710": {
      "model_module": "@jupyter-widgets/base",
      "model_module_version": "1.2.0",
      "model_name": "LayoutModel",
      "state": {
       "_model_module": "@jupyter-widgets/base",
       "_model_module_version": "1.2.0",
       "_model_name": "LayoutModel",
       "_view_count": null,
       "_view_module": "@jupyter-widgets/base",
       "_view_module_version": "1.2.0",
       "_view_name": "LayoutView",
       "align_content": null,
       "align_items": null,
       "align_self": null,
       "border": null,
       "bottom": null,
       "display": null,
       "flex": null,
       "flex_flow": null,
       "grid_area": null,
       "grid_auto_columns": null,
       "grid_auto_flow": null,
       "grid_auto_rows": null,
       "grid_column": null,
       "grid_gap": null,
       "grid_row": null,
       "grid_template_areas": null,
       "grid_template_columns": null,
       "grid_template_rows": null,
       "height": null,
       "justify_content": null,
       "justify_items": null,
       "left": null,
       "margin": null,
       "max_height": null,
       "max_width": null,
       "min_height": null,
       "min_width": null,
       "object_fit": null,
       "object_position": null,
       "order": null,
       "overflow": null,
       "overflow_x": null,
       "overflow_y": null,
       "padding": null,
       "right": null,
       "top": null,
       "visibility": null,
       "width": null
      }
     },
     "51e079a50cf14ec7b47a46d6f7164df4": {
      "model_module": "@jupyter-widgets/controls",
      "model_module_version": "1.5.0",
      "model_name": "FloatProgressModel",
      "state": {
       "_dom_classes": [],
       "_model_module": "@jupyter-widgets/controls",
       "_model_module_version": "1.5.0",
       "_model_name": "FloatProgressModel",
       "_view_count": null,
       "_view_module": "@jupyter-widgets/controls",
       "_view_module_version": "1.5.0",
       "_view_name": "ProgressView",
       "bar_style": "success",
       "description": "",
       "description_tooltip": null,
       "layout": "IPY_MODEL_2ff4211798094089861aa04909ea9f22",
       "max": 142.0,
       "min": 0.0,
       "orientation": "horizontal",
       "style": "IPY_MODEL_f83f33e5eb0f4596806e5a8e4c16e2ce",
       "value": 142.0
      }
     },
     "53dde31d8cb54cd1948e7898231e8999": {
      "model_module": "@jupyter-widgets/controls",
      "model_module_version": "1.5.0",
      "model_name": "DescriptionStyleModel",
      "state": {
       "_model_module": "@jupyter-widgets/controls",
       "_model_module_version": "1.5.0",
       "_model_name": "DescriptionStyleModel",
       "_view_count": null,
       "_view_module": "@jupyter-widgets/base",
       "_view_module_version": "1.2.0",
       "_view_name": "StyleView",
       "description_width": ""
      }
     },
     "574df2e452384a9a8eead5bd45a7f420": {
      "model_module": "@jupyter-widgets/base",
      "model_module_version": "1.2.0",
      "model_name": "LayoutModel",
      "state": {
       "_model_module": "@jupyter-widgets/base",
       "_model_module_version": "1.2.0",
       "_model_name": "LayoutModel",
       "_view_count": null,
       "_view_module": "@jupyter-widgets/base",
       "_view_module_version": "1.2.0",
       "_view_name": "LayoutView",
       "align_content": null,
       "align_items": null,
       "align_self": null,
       "border": null,
       "bottom": null,
       "display": null,
       "flex": null,
       "flex_flow": null,
       "grid_area": null,
       "grid_auto_columns": null,
       "grid_auto_flow": null,
       "grid_auto_rows": null,
       "grid_column": null,
       "grid_gap": null,
       "grid_row": null,
       "grid_template_areas": null,
       "grid_template_columns": null,
       "grid_template_rows": null,
       "height": null,
       "justify_content": null,
       "justify_items": null,
       "left": null,
       "margin": null,
       "max_height": null,
       "max_width": null,
       "min_height": null,
       "min_width": null,
       "object_fit": null,
       "object_position": null,
       "order": null,
       "overflow": null,
       "overflow_x": null,
       "overflow_y": null,
       "padding": null,
       "right": null,
       "top": null,
       "visibility": null,
       "width": null
      }
     },
     "58c7782b17104a769a963a8fc9f51981": {
      "model_module": "@jupyter-widgets/base",
      "model_module_version": "1.2.0",
      "model_name": "LayoutModel",
      "state": {
       "_model_module": "@jupyter-widgets/base",
       "_model_module_version": "1.2.0",
       "_model_name": "LayoutModel",
       "_view_count": null,
       "_view_module": "@jupyter-widgets/base",
       "_view_module_version": "1.2.0",
       "_view_name": "LayoutView",
       "align_content": null,
       "align_items": null,
       "align_self": null,
       "border": null,
       "bottom": null,
       "display": null,
       "flex": null,
       "flex_flow": null,
       "grid_area": null,
       "grid_auto_columns": null,
       "grid_auto_flow": null,
       "grid_auto_rows": null,
       "grid_column": null,
       "grid_gap": null,
       "grid_row": null,
       "grid_template_areas": null,
       "grid_template_columns": null,
       "grid_template_rows": null,
       "height": null,
       "justify_content": null,
       "justify_items": null,
       "left": null,
       "margin": null,
       "max_height": null,
       "max_width": null,
       "min_height": null,
       "min_width": null,
       "object_fit": null,
       "object_position": null,
       "order": null,
       "overflow": null,
       "overflow_x": null,
       "overflow_y": null,
       "padding": null,
       "right": null,
       "top": null,
       "visibility": null,
       "width": null
      }
     },
     "5cbaaa06fccf4947b70d375909877d57": {
      "model_module": "@jupyter-widgets/controls",
      "model_module_version": "1.5.0",
      "model_name": "DescriptionStyleModel",
      "state": {
       "_model_module": "@jupyter-widgets/controls",
       "_model_module_version": "1.5.0",
       "_model_name": "DescriptionStyleModel",
       "_view_count": null,
       "_view_module": "@jupyter-widgets/base",
       "_view_module_version": "1.2.0",
       "_view_name": "StyleView",
       "description_width": ""
      }
     },
     "621e38dba5b84711afb77f5653535586": {
      "model_module": "@jupyter-widgets/controls",
      "model_module_version": "1.5.0",
      "model_name": "HBoxModel",
      "state": {
       "_dom_classes": [],
       "_model_module": "@jupyter-widgets/controls",
       "_model_module_version": "1.5.0",
       "_model_name": "HBoxModel",
       "_view_count": null,
       "_view_module": "@jupyter-widgets/controls",
       "_view_module_version": "1.5.0",
       "_view_name": "HBoxView",
       "box_style": "",
       "children": [
        "IPY_MODEL_05676281ffa84986b8e0b57bfbfd0e89",
        "IPY_MODEL_836df272a4f44489b4a9bd5a536389c0",
        "IPY_MODEL_a479906cfe38421f91e023f48ca506f6"
       ],
       "layout": "IPY_MODEL_b3aaee566a454bd2be0662634c152531"
      }
     },
     "6444c5a00c6d4355b621cd83f7edbc7e": {
      "model_module": "@jupyter-widgets/controls",
      "model_module_version": "1.5.0",
      "model_name": "HTMLModel",
      "state": {
       "_dom_classes": [],
       "_model_module": "@jupyter-widgets/controls",
       "_model_module_version": "1.5.0",
       "_model_name": "HTMLModel",
       "_view_count": null,
       "_view_module": "@jupyter-widgets/controls",
       "_view_module_version": "1.5.0",
       "_view_name": "HTMLView",
       "description": "",
       "description_tooltip": null,
       "layout": "IPY_MODEL_857eb8a6dac5437ab5f9b873b53c8561",
       "placeholder": "​",
       "style": "IPY_MODEL_5cbaaa06fccf4947b70d375909877d57",
       "value": " 837/837 [00:00&lt;00:00, 73.7kB/s]"
      }
     },
     "67ec53a3eeb64a449f8ea5298479a59f": {
      "model_module": "@jupyter-widgets/controls",
      "model_module_version": "1.5.0",
      "model_name": "HTMLModel",
      "state": {
       "_dom_classes": [],
       "_model_module": "@jupyter-widgets/controls",
       "_model_module_version": "1.5.0",
       "_model_name": "HTMLModel",
       "_view_count": null,
       "_view_module": "@jupyter-widgets/controls",
       "_view_module_version": "1.5.0",
       "_view_name": "HTMLView",
       "description": "",
       "description_tooltip": null,
       "layout": "IPY_MODEL_796f8a7f36794fc9bb3ebe8755297bcb",
       "placeholder": "​",
       "style": "IPY_MODEL_1dada4134b0748b3bf2bc03017812ee1",
       "value": " 25.6k/25.6k [00:00&lt;00:00, 2.03MB/s]"
      }
     },
     "68a8996fd6124313b9dc2a970826774f": {
      "model_module": "@jupyter-widgets/controls",
      "model_module_version": "1.5.0",
      "model_name": "DescriptionStyleModel",
      "state": {
       "_model_module": "@jupyter-widgets/controls",
       "_model_module_version": "1.5.0",
       "_model_name": "DescriptionStyleModel",
       "_view_count": null,
       "_view_module": "@jupyter-widgets/base",
       "_view_module_version": "1.2.0",
       "_view_name": "StyleView",
       "description_width": ""
      }
     },
     "6d7d0511f9af4516be2ab0a42de5d8b4": {
      "model_module": "@jupyter-widgets/base",
      "model_module_version": "1.2.0",
      "model_name": "LayoutModel",
      "state": {
       "_model_module": "@jupyter-widgets/base",
       "_model_module_version": "1.2.0",
       "_model_name": "LayoutModel",
       "_view_count": null,
       "_view_module": "@jupyter-widgets/base",
       "_view_module_version": "1.2.0",
       "_view_name": "LayoutView",
       "align_content": null,
       "align_items": null,
       "align_self": null,
       "border": null,
       "bottom": null,
       "display": null,
       "flex": null,
       "flex_flow": null,
       "grid_area": null,
       "grid_auto_columns": null,
       "grid_auto_flow": null,
       "grid_auto_rows": null,
       "grid_column": null,
       "grid_gap": null,
       "grid_row": null,
       "grid_template_areas": null,
       "grid_template_columns": null,
       "grid_template_rows": null,
       "height": null,
       "justify_content": null,
       "justify_items": null,
       "left": null,
       "margin": null,
       "max_height": null,
       "max_width": null,
       "min_height": null,
       "min_width": null,
       "object_fit": null,
       "object_position": null,
       "order": null,
       "overflow": null,
       "overflow_x": null,
       "overflow_y": null,
       "padding": null,
       "right": null,
       "top": null,
       "visibility": null,
       "width": null
      }
     },
     "74300fc23a5349b895758566e9728356": {
      "model_module": "@jupyter-widgets/base",
      "model_module_version": "1.2.0",
      "model_name": "LayoutModel",
      "state": {
       "_model_module": "@jupyter-widgets/base",
       "_model_module_version": "1.2.0",
       "_model_name": "LayoutModel",
       "_view_count": null,
       "_view_module": "@jupyter-widgets/base",
       "_view_module_version": "1.2.0",
       "_view_name": "LayoutView",
       "align_content": null,
       "align_items": null,
       "align_self": null,
       "border": null,
       "bottom": null,
       "display": null,
       "flex": null,
       "flex_flow": null,
       "grid_area": null,
       "grid_auto_columns": null,
       "grid_auto_flow": null,
       "grid_auto_rows": null,
       "grid_column": null,
       "grid_gap": null,
       "grid_row": null,
       "grid_template_areas": null,
       "grid_template_columns": null,
       "grid_template_rows": null,
       "height": null,
       "justify_content": null,
       "justify_items": null,
       "left": null,
       "margin": null,
       "max_height": null,
       "max_width": null,
       "min_height": null,
       "min_width": null,
       "object_fit": null,
       "object_position": null,
       "order": null,
       "overflow": null,
       "overflow_x": null,
       "overflow_y": null,
       "padding": null,
       "right": null,
       "top": null,
       "visibility": null,
       "width": null
      }
     },
     "75e65d0ac8cb4810a9bc42b38e690888": {
      "model_module": "@jupyter-widgets/base",
      "model_module_version": "1.2.0",
      "model_name": "LayoutModel",
      "state": {
       "_model_module": "@jupyter-widgets/base",
       "_model_module_version": "1.2.0",
       "_model_name": "LayoutModel",
       "_view_count": null,
       "_view_module": "@jupyter-widgets/base",
       "_view_module_version": "1.2.0",
       "_view_name": "LayoutView",
       "align_content": null,
       "align_items": null,
       "align_self": null,
       "border": null,
       "bottom": null,
       "display": null,
       "flex": null,
       "flex_flow": null,
       "grid_area": null,
       "grid_auto_columns": null,
       "grid_auto_flow": null,
       "grid_auto_rows": null,
       "grid_column": null,
       "grid_gap": null,
       "grid_row": null,
       "grid_template_areas": null,
       "grid_template_columns": null,
       "grid_template_rows": null,
       "height": null,
       "justify_content": null,
       "justify_items": null,
       "left": null,
       "margin": null,
       "max_height": null,
       "max_width": null,
       "min_height": null,
       "min_width": null,
       "object_fit": null,
       "object_position": null,
       "order": null,
       "overflow": null,
       "overflow_x": null,
       "overflow_y": null,
       "padding": null,
       "right": null,
       "top": null,
       "visibility": null,
       "width": null
      }
     },
     "77e00ef5a96c4cd5b98303c9d2781255": {
      "model_module": "@jupyter-widgets/controls",
      "model_module_version": "1.5.0",
      "model_name": "HBoxModel",
      "state": {
       "_dom_classes": [],
       "_model_module": "@jupyter-widgets/controls",
       "_model_module_version": "1.5.0",
       "_model_name": "HBoxModel",
       "_view_count": null,
       "_view_module": "@jupyter-widgets/controls",
       "_view_module_version": "1.5.0",
       "_view_name": "HBoxView",
       "box_style": "",
       "children": [
        "IPY_MODEL_b9c03b1f23964b6295b6a5e68472e5df",
        "IPY_MODEL_51e079a50cf14ec7b47a46d6f7164df4",
        "IPY_MODEL_cdbdb5edf7a640bd9d7b17c9ccaf716f"
       ],
       "layout": "IPY_MODEL_58c7782b17104a769a963a8fc9f51981"
      }
     },
     "796f8a7f36794fc9bb3ebe8755297bcb": {
      "model_module": "@jupyter-widgets/base",
      "model_module_version": "1.2.0",
      "model_name": "LayoutModel",
      "state": {
       "_model_module": "@jupyter-widgets/base",
       "_model_module_version": "1.2.0",
       "_model_name": "LayoutModel",
       "_view_count": null,
       "_view_module": "@jupyter-widgets/base",
       "_view_module_version": "1.2.0",
       "_view_name": "LayoutView",
       "align_content": null,
       "align_items": null,
       "align_self": null,
       "border": null,
       "bottom": null,
       "display": null,
       "flex": null,
       "flex_flow": null,
       "grid_area": null,
       "grid_auto_columns": null,
       "grid_auto_flow": null,
       "grid_auto_rows": null,
       "grid_column": null,
       "grid_gap": null,
       "grid_row": null,
       "grid_template_areas": null,
       "grid_template_columns": null,
       "grid_template_rows": null,
       "height": null,
       "justify_content": null,
       "justify_items": null,
       "left": null,
       "margin": null,
       "max_height": null,
       "max_width": null,
       "min_height": null,
       "min_width": null,
       "object_fit": null,
       "object_position": null,
       "order": null,
       "overflow": null,
       "overflow_x": null,
       "overflow_y": null,
       "padding": null,
       "right": null,
       "top": null,
       "visibility": null,
       "width": null
      }
     },
     "7db5556404424680970c3dc284d8b9d9": {
      "model_module": "@jupyter-widgets/controls",
      "model_module_version": "1.5.0",
      "model_name": "HBoxModel",
      "state": {
       "_dom_classes": [],
       "_model_module": "@jupyter-widgets/controls",
       "_model_module_version": "1.5.0",
       "_model_name": "HBoxModel",
       "_view_count": null,
       "_view_module": "@jupyter-widgets/controls",
       "_view_module_version": "1.5.0",
       "_view_name": "HBoxView",
       "box_style": "",
       "children": [
        "IPY_MODEL_8d11b807bf0347faa456a6224101037f",
        "IPY_MODEL_406b716b9efd4a01971950f637f0bb28",
        "IPY_MODEL_0e71291b9bfd435ca94b2f3ae41eecd5"
       ],
       "layout": "IPY_MODEL_bb57209883654a33aaba4a4b64ff93f2"
      }
     },
     "80de86486a9f40a4b4dd513b0670aed7": {
      "model_module": "@jupyter-widgets/controls",
      "model_module_version": "1.5.0",
      "model_name": "ProgressStyleModel",
      "state": {
       "_model_module": "@jupyter-widgets/controls",
       "_model_module_version": "1.5.0",
       "_model_name": "ProgressStyleModel",
       "_view_count": null,
       "_view_module": "@jupyter-widgets/base",
       "_view_module_version": "1.2.0",
       "_view_name": "StyleView",
       "bar_color": null,
       "description_width": ""
      }
     },
     "836df272a4f44489b4a9bd5a536389c0": {
      "model_module": "@jupyter-widgets/controls",
      "model_module_version": "1.5.0",
      "model_name": "FloatProgressModel",
      "state": {
       "_dom_classes": [],
       "_model_module": "@jupyter-widgets/controls",
       "_model_module_version": "1.5.0",
       "_model_name": "FloatProgressModel",
       "_view_count": null,
       "_view_module": "@jupyter-widgets/controls",
       "_view_module_version": "1.5.0",
       "_view_name": "ProgressView",
       "bar_style": "success",
       "description": "",
       "description_tooltip": null,
       "layout": "IPY_MODEL_f7b6c496e2b946cf8fc79464ca88cfbd",
       "max": 3090.0,
       "min": 0.0,
       "orientation": "horizontal",
       "style": "IPY_MODEL_fb47a13d43254403aab26260c4820319",
       "value": 3090.0
      }
     },
     "83e2b67853e54005a32182b3403b1139": {
      "model_module": "@jupyter-widgets/controls",
      "model_module_version": "1.5.0",
      "model_name": "DescriptionStyleModel",
      "state": {
       "_model_module": "@jupyter-widgets/controls",
       "_model_module_version": "1.5.0",
       "_model_name": "DescriptionStyleModel",
       "_view_count": null,
       "_view_module": "@jupyter-widgets/base",
       "_view_module_version": "1.2.0",
       "_view_name": "StyleView",
       "description_width": ""
      }
     },
     "857eb8a6dac5437ab5f9b873b53c8561": {
      "model_module": "@jupyter-widgets/base",
      "model_module_version": "1.2.0",
      "model_name": "LayoutModel",
      "state": {
       "_model_module": "@jupyter-widgets/base",
       "_model_module_version": "1.2.0",
       "_model_name": "LayoutModel",
       "_view_count": null,
       "_view_module": "@jupyter-widgets/base",
       "_view_module_version": "1.2.0",
       "_view_name": "LayoutView",
       "align_content": null,
       "align_items": null,
       "align_self": null,
       "border": null,
       "bottom": null,
       "display": null,
       "flex": null,
       "flex_flow": null,
       "grid_area": null,
       "grid_auto_columns": null,
       "grid_auto_flow": null,
       "grid_auto_rows": null,
       "grid_column": null,
       "grid_gap": null,
       "grid_row": null,
       "grid_template_areas": null,
       "grid_template_columns": null,
       "grid_template_rows": null,
       "height": null,
       "justify_content": null,
       "justify_items": null,
       "left": null,
       "margin": null,
       "max_height": null,
       "max_width": null,
       "min_height": null,
       "min_width": null,
       "object_fit": null,
       "object_position": null,
       "order": null,
       "overflow": null,
       "overflow_x": null,
       "overflow_y": null,
       "padding": null,
       "right": null,
       "top": null,
       "visibility": null,
       "width": null
      }
     },
     "8b4ee5266ae4413e830c87b0812f963f": {
      "model_module": "@jupyter-widgets/base",
      "model_module_version": "1.2.0",
      "model_name": "LayoutModel",
      "state": {
       "_model_module": "@jupyter-widgets/base",
       "_model_module_version": "1.2.0",
       "_model_name": "LayoutModel",
       "_view_count": null,
       "_view_module": "@jupyter-widgets/base",
       "_view_module_version": "1.2.0",
       "_view_name": "LayoutView",
       "align_content": null,
       "align_items": null,
       "align_self": null,
       "border": null,
       "bottom": null,
       "display": null,
       "flex": null,
       "flex_flow": null,
       "grid_area": null,
       "grid_auto_columns": null,
       "grid_auto_flow": null,
       "grid_auto_rows": null,
       "grid_column": null,
       "grid_gap": null,
       "grid_row": null,
       "grid_template_areas": null,
       "grid_template_columns": null,
       "grid_template_rows": null,
       "height": null,
       "justify_content": null,
       "justify_items": null,
       "left": null,
       "margin": null,
       "max_height": null,
       "max_width": null,
       "min_height": null,
       "min_width": null,
       "object_fit": null,
       "object_position": null,
       "order": null,
       "overflow": null,
       "overflow_x": null,
       "overflow_y": null,
       "padding": null,
       "right": null,
       "top": null,
       "visibility": null,
       "width": null
      }
     },
     "8d11b807bf0347faa456a6224101037f": {
      "model_module": "@jupyter-widgets/controls",
      "model_module_version": "1.5.0",
      "model_name": "HTMLModel",
      "state": {
       "_dom_classes": [],
       "_model_module": "@jupyter-widgets/controls",
       "_model_module_version": "1.5.0",
       "_model_name": "HTMLModel",
       "_view_count": null,
       "_view_module": "@jupyter-widgets/controls",
       "_view_module_version": "1.5.0",
       "_view_name": "HTMLView",
       "description": "",
       "description_tooltip": null,
       "layout": "IPY_MODEL_4b5edcb2ce6d4fdcb36478a93d70d710",
       "placeholder": "​",
       "style": "IPY_MODEL_f2db9173cae34a4fa58d679cbd92362d",
       "value": "model.safetensors: 100%"
      }
     },
     "9b0487e66bf44721ade707b36a22454b": {
      "model_module": "@jupyter-widgets/base",
      "model_module_version": "1.2.0",
      "model_name": "LayoutModel",
      "state": {
       "_model_module": "@jupyter-widgets/base",
       "_model_module_version": "1.2.0",
       "_model_name": "LayoutModel",
       "_view_count": null,
       "_view_module": "@jupyter-widgets/base",
       "_view_module_version": "1.2.0",
       "_view_name": "LayoutView",
       "align_content": null,
       "align_items": null,
       "align_self": null,
       "border": null,
       "bottom": null,
       "display": null,
       "flex": null,
       "flex_flow": null,
       "grid_area": null,
       "grid_auto_columns": null,
       "grid_auto_flow": null,
       "grid_auto_rows": null,
       "grid_column": null,
       "grid_gap": null,
       "grid_row": null,
       "grid_template_areas": null,
       "grid_template_columns": null,
       "grid_template_rows": null,
       "height": null,
       "justify_content": null,
       "justify_items": null,
       "left": null,
       "margin": null,
       "max_height": null,
       "max_width": null,
       "min_height": null,
       "min_width": null,
       "object_fit": null,
       "object_position": null,
       "order": null,
       "overflow": null,
       "overflow_x": null,
       "overflow_y": null,
       "padding": null,
       "right": null,
       "top": null,
       "visibility": null,
       "width": null
      }
     },
     "a20676e40b944e609f5c57a7352b4c14": {
      "model_module": "@jupyter-widgets/controls",
      "model_module_version": "1.5.0",
      "model_name": "DescriptionStyleModel",
      "state": {
       "_model_module": "@jupyter-widgets/controls",
       "_model_module_version": "1.5.0",
       "_model_name": "DescriptionStyleModel",
       "_view_count": null,
       "_view_module": "@jupyter-widgets/base",
       "_view_module_version": "1.2.0",
       "_view_name": "StyleView",
       "description_width": ""
      }
     },
     "a383cad4cdfa4c47be4ff8d1b25a8103": {
      "model_module": "@jupyter-widgets/base",
      "model_module_version": "1.2.0",
      "model_name": "LayoutModel",
      "state": {
       "_model_module": "@jupyter-widgets/base",
       "_model_module_version": "1.2.0",
       "_model_name": "LayoutModel",
       "_view_count": null,
       "_view_module": "@jupyter-widgets/base",
       "_view_module_version": "1.2.0",
       "_view_name": "LayoutView",
       "align_content": null,
       "align_items": null,
       "align_self": null,
       "border": null,
       "bottom": null,
       "display": null,
       "flex": null,
       "flex_flow": null,
       "grid_area": null,
       "grid_auto_columns": null,
       "grid_auto_flow": null,
       "grid_auto_rows": null,
       "grid_column": null,
       "grid_gap": null,
       "grid_row": null,
       "grid_template_areas": null,
       "grid_template_columns": null,
       "grid_template_rows": null,
       "height": null,
       "justify_content": null,
       "justify_items": null,
       "left": null,
       "margin": null,
       "max_height": null,
       "max_width": null,
       "min_height": null,
       "min_width": null,
       "object_fit": null,
       "object_position": null,
       "order": null,
       "overflow": null,
       "overflow_x": null,
       "overflow_y": null,
       "padding": null,
       "right": null,
       "top": null,
       "visibility": null,
       "width": null
      }
     },
     "a479906cfe38421f91e023f48ca506f6": {
      "model_module": "@jupyter-widgets/controls",
      "model_module_version": "1.5.0",
      "model_name": "HTMLModel",
      "state": {
       "_dom_classes": [],
       "_model_module": "@jupyter-widgets/controls",
       "_model_module_version": "1.5.0",
       "_model_name": "HTMLModel",
       "_view_count": null,
       "_view_module": "@jupyter-widgets/controls",
       "_view_module_version": "1.5.0",
       "_view_name": "HTMLView",
       "description": "",
       "description_tooltip": null,
       "layout": "IPY_MODEL_ffc228a4c3cb4c29ace686c7ebb8fa87",
       "placeholder": "​",
       "style": "IPY_MODEL_a8348ef03bf74192b7cec4811bc18e42",
       "value": " 3.09k/3.09k [00:00&lt;00:00, 277kB/s]"
      }
     },
     "a7d2ac3a4dca4d3a9f9584a4a4a26f7f": {
      "model_module": "@jupyter-widgets/controls",
      "model_module_version": "1.5.0",
      "model_name": "DescriptionStyleModel",
      "state": {
       "_model_module": "@jupyter-widgets/controls",
       "_model_module_version": "1.5.0",
       "_model_name": "DescriptionStyleModel",
       "_view_count": null,
       "_view_module": "@jupyter-widgets/base",
       "_view_module_version": "1.2.0",
       "_view_name": "StyleView",
       "description_width": ""
      }
     },
     "a8348ef03bf74192b7cec4811bc18e42": {
      "model_module": "@jupyter-widgets/controls",
      "model_module_version": "1.5.0",
      "model_name": "DescriptionStyleModel",
      "state": {
       "_model_module": "@jupyter-widgets/controls",
       "_model_module_version": "1.5.0",
       "_model_name": "DescriptionStyleModel",
       "_view_count": null,
       "_view_module": "@jupyter-widgets/base",
       "_view_module_version": "1.2.0",
       "_view_name": "StyleView",
       "description_width": ""
      }
     },
     "adc60c42e5814d1495feacfdb838405b": {
      "model_module": "@jupyter-widgets/controls",
      "model_module_version": "1.5.0",
      "model_name": "FloatProgressModel",
      "state": {
       "_dom_classes": [],
       "_model_module": "@jupyter-widgets/controls",
       "_model_module_version": "1.5.0",
       "_model_name": "FloatProgressModel",
       "_view_count": null,
       "_view_module": "@jupyter-widgets/controls",
       "_view_module_version": "1.5.0",
       "_view_name": "ProgressView",
       "bar_style": "success",
       "description": "",
       "description_tooltip": null,
       "layout": "IPY_MODEL_d2909c0b5b074c02b988f5617979967b",
       "max": 3018.0,
       "min": 0.0,
       "orientation": "horizontal",
       "style": "IPY_MODEL_80de86486a9f40a4b4dd513b0670aed7",
       "value": 3018.0
      }
     },
     "b2e8e7150aad42579456e7e8c90189cd": {
      "model_module": "@jupyter-widgets/controls",
      "model_module_version": "1.5.0",
      "model_name": "HTMLModel",
      "state": {
       "_dom_classes": [],
       "_model_module": "@jupyter-widgets/controls",
       "_model_module_version": "1.5.0",
       "_model_name": "HTMLModel",
       "_view_count": null,
       "_view_module": "@jupyter-widgets/controls",
       "_view_module_version": "1.5.0",
       "_view_name": "HTMLView",
       "description": "",
       "description_tooltip": null,
       "layout": "IPY_MODEL_74300fc23a5349b895758566e9728356",
       "placeholder": "​",
       "style": "IPY_MODEL_ebc8595f0ae4491395f77306d9e04e94",
       "value": "added_tokens.json: 100%"
      }
     },
     "b3aaee566a454bd2be0662634c152531": {
      "model_module": "@jupyter-widgets/base",
      "model_module_version": "1.2.0",
      "model_name": "LayoutModel",
      "state": {
       "_model_module": "@jupyter-widgets/base",
       "_model_module_version": "1.2.0",
       "_model_name": "LayoutModel",
       "_view_count": null,
       "_view_module": "@jupyter-widgets/base",
       "_view_module_version": "1.2.0",
       "_view_name": "LayoutView",
       "align_content": null,
       "align_items": null,
       "align_self": null,
       "border": null,
       "bottom": null,
       "display": null,
       "flex": null,
       "flex_flow": null,
       "grid_area": null,
       "grid_auto_columns": null,
       "grid_auto_flow": null,
       "grid_auto_rows": null,
       "grid_column": null,
       "grid_gap": null,
       "grid_row": null,
       "grid_template_areas": null,
       "grid_template_columns": null,
       "grid_template_rows": null,
       "height": null,
       "justify_content": null,
       "justify_items": null,
       "left": null,
       "margin": null,
       "max_height": null,
       "max_width": null,
       "min_height": null,
       "min_width": null,
       "object_fit": null,
       "object_position": null,
       "order": null,
       "overflow": null,
       "overflow_x": null,
       "overflow_y": null,
       "padding": null,
       "right": null,
       "top": null,
       "visibility": null,
       "width": null
      }
     },
     "b9c03b1f23964b6295b6a5e68472e5df": {
      "model_module": "@jupyter-widgets/controls",
      "model_module_version": "1.5.0",
      "model_name": "HTMLModel",
      "state": {
       "_dom_classes": [],
       "_model_module": "@jupyter-widgets/controls",
       "_model_module_version": "1.5.0",
       "_model_name": "HTMLModel",
       "_view_count": null,
       "_view_module": "@jupyter-widgets/controls",
       "_view_module_version": "1.5.0",
       "_view_name": "HTMLView",
       "description": "",
       "description_tooltip": null,
       "layout": "IPY_MODEL_8b4ee5266ae4413e830c87b0812f963f",
       "placeholder": "​",
       "style": "IPY_MODEL_20dd7990929147d7a9f6449a66dc5438",
       "value": "generation_config.json: 100%"
      }
     },
     "bb57209883654a33aaba4a4b64ff93f2": {
      "model_module": "@jupyter-widgets/base",
      "model_module_version": "1.2.0",
      "model_name": "LayoutModel",
      "state": {
       "_model_module": "@jupyter-widgets/base",
       "_model_module_version": "1.2.0",
       "_model_name": "LayoutModel",
       "_view_count": null,
       "_view_module": "@jupyter-widgets/base",
       "_view_module_version": "1.2.0",
       "_view_name": "LayoutView",
       "align_content": null,
       "align_items": null,
       "align_self": null,
       "border": null,
       "bottom": null,
       "display": null,
       "flex": null,
       "flex_flow": null,
       "grid_area": null,
       "grid_auto_columns": null,
       "grid_auto_flow": null,
       "grid_auto_rows": null,
       "grid_column": null,
       "grid_gap": null,
       "grid_row": null,
       "grid_template_areas": null,
       "grid_template_columns": null,
       "grid_template_rows": null,
       "height": null,
       "justify_content": null,
       "justify_items": null,
       "left": null,
       "margin": null,
       "max_height": null,
       "max_width": null,
       "min_height": null,
       "min_width": null,
       "object_fit": null,
       "object_position": null,
       "order": null,
       "overflow": null,
       "overflow_x": null,
       "overflow_y": null,
       "padding": null,
       "right": null,
       "top": null,
       "visibility": null,
       "width": null
      }
     },
     "c8976a074eb54efb854e58d8f35d59e7": {
      "model_module": "@jupyter-widgets/controls",
      "model_module_version": "1.5.0",
      "model_name": "HTMLModel",
      "state": {
       "_dom_classes": [],
       "_model_module": "@jupyter-widgets/controls",
       "_model_module_version": "1.5.0",
       "_model_name": "HTMLModel",
       "_view_count": null,
       "_view_module": "@jupyter-widgets/controls",
       "_view_module_version": "1.5.0",
       "_view_name": "HTMLView",
       "description": "",
       "description_tooltip": null,
       "layout": "IPY_MODEL_574df2e452384a9a8eead5bd45a7f420",
       "placeholder": "​",
       "style": "IPY_MODEL_83e2b67853e54005a32182b3403b1139",
       "value": "tokenizer_config.json: 100%"
      }
     },
     "ccc2863e90ec4feda7b8a55b969f7351": {
      "model_module": "@jupyter-widgets/base",
      "model_module_version": "1.2.0",
      "model_name": "LayoutModel",
      "state": {
       "_model_module": "@jupyter-widgets/base",
       "_model_module_version": "1.2.0",
       "_model_name": "LayoutModel",
       "_view_count": null,
       "_view_module": "@jupyter-widgets/base",
       "_view_module_version": "1.2.0",
       "_view_name": "LayoutView",
       "align_content": null,
       "align_items": null,
       "align_self": null,
       "border": null,
       "bottom": null,
       "display": null,
       "flex": null,
       "flex_flow": null,
       "grid_area": null,
       "grid_auto_columns": null,
       "grid_auto_flow": null,
       "grid_auto_rows": null,
       "grid_column": null,
       "grid_gap": null,
       "grid_row": null,
       "grid_template_areas": null,
       "grid_template_columns": null,
       "grid_template_rows": null,
       "height": null,
       "justify_content": null,
       "justify_items": null,
       "left": null,
       "margin": null,
       "max_height": null,
       "max_width": null,
       "min_height": null,
       "min_width": null,
       "object_fit": null,
       "object_position": null,
       "order": null,
       "overflow": null,
       "overflow_x": null,
       "overflow_y": null,
       "padding": null,
       "right": null,
       "top": null,
       "visibility": null,
       "width": null
      }
     },
     "cdbdb5edf7a640bd9d7b17c9ccaf716f": {
      "model_module": "@jupyter-widgets/controls",
      "model_module_version": "1.5.0",
      "model_name": "HTMLModel",
      "state": {
       "_dom_classes": [],
       "_model_module": "@jupyter-widgets/controls",
       "_model_module_version": "1.5.0",
       "_model_name": "HTMLModel",
       "_view_count": null,
       "_view_module": "@jupyter-widgets/controls",
       "_view_module_version": "1.5.0",
       "_view_name": "HTMLView",
       "description": "",
       "description_tooltip": null,
       "layout": "IPY_MODEL_6d7d0511f9af4516be2ab0a42de5d8b4",
       "placeholder": "​",
       "style": "IPY_MODEL_a7d2ac3a4dca4d3a9f9584a4a4a26f7f",
       "value": " 142/142 [00:00&lt;00:00, 12.8kB/s]"
      }
     },
     "d2909c0b5b074c02b988f5617979967b": {
      "model_module": "@jupyter-widgets/base",
      "model_module_version": "1.2.0",
      "model_name": "LayoutModel",
      "state": {
       "_model_module": "@jupyter-widgets/base",
       "_model_module_version": "1.2.0",
       "_model_name": "LayoutModel",
       "_view_count": null,
       "_view_module": "@jupyter-widgets/base",
       "_view_module_version": "1.2.0",
       "_view_name": "LayoutView",
       "align_content": null,
       "align_items": null,
       "align_self": null,
       "border": null,
       "bottom": null,
       "display": null,
       "flex": null,
       "flex_flow": null,
       "grid_area": null,
       "grid_auto_columns": null,
       "grid_auto_flow": null,
       "grid_auto_rows": null,
       "grid_column": null,
       "grid_gap": null,
       "grid_row": null,
       "grid_template_areas": null,
       "grid_template_columns": null,
       "grid_template_rows": null,
       "height": null,
       "justify_content": null,
       "justify_items": null,
       "left": null,
       "margin": null,
       "max_height": null,
       "max_width": null,
       "min_height": null,
       "min_width": null,
       "object_fit": null,
       "object_position": null,
       "order": null,
       "overflow": null,
       "overflow_x": null,
       "overflow_y": null,
       "padding": null,
       "right": null,
       "top": null,
       "visibility": null,
       "width": null
      }
     },
     "d33fcb658307427f9d81fb6af094da76": {
      "model_module": "@jupyter-widgets/controls",
      "model_module_version": "1.5.0",
      "model_name": "HBoxModel",
      "state": {
       "_dom_classes": [],
       "_model_module": "@jupyter-widgets/controls",
       "_model_module_version": "1.5.0",
       "_model_name": "HBoxModel",
       "_view_count": null,
       "_view_module": "@jupyter-widgets/controls",
       "_view_module_version": "1.5.0",
       "_view_name": "HBoxView",
       "box_style": "",
       "children": [
        "IPY_MODEL_2d79a379d74048ffab13a2a255c0ab14",
        "IPY_MODEL_217cc93bbe994c0ba800579357c5bcc1",
        "IPY_MODEL_6444c5a00c6d4355b621cd83f7edbc7e"
       ],
       "layout": "IPY_MODEL_a383cad4cdfa4c47be4ff8d1b25a8103"
      }
     },
     "de0a44a261724aa7a07ad145e9e6b1bf": {
      "model_module": "@jupyter-widgets/controls",
      "model_module_version": "1.5.0",
      "model_name": "ProgressStyleModel",
      "state": {
       "_model_module": "@jupyter-widgets/controls",
       "_model_module_version": "1.5.0",
       "_model_name": "ProgressStyleModel",
       "_view_count": null,
       "_view_module": "@jupyter-widgets/base",
       "_view_module_version": "1.2.0",
       "_view_name": "StyleView",
       "bar_color": null,
       "description_width": ""
      }
     },
     "e133a79ecd6e4d0d8520b2df718ec5f7": {
      "model_module": "@jupyter-widgets/controls",
      "model_module_version": "1.5.0",
      "model_name": "DescriptionStyleModel",
      "state": {
       "_model_module": "@jupyter-widgets/controls",
       "_model_module_version": "1.5.0",
       "_model_name": "DescriptionStyleModel",
       "_view_count": null,
       "_view_module": "@jupyter-widgets/base",
       "_view_module_version": "1.2.0",
       "_view_name": "StyleView",
       "description_width": ""
      }
     },
     "e8c016859a0e41e1bc84130d196e69fd": {
      "model_module": "@jupyter-widgets/base",
      "model_module_version": "1.2.0",
      "model_name": "LayoutModel",
      "state": {
       "_model_module": "@jupyter-widgets/base",
       "_model_module_version": "1.2.0",
       "_model_name": "LayoutModel",
       "_view_count": null,
       "_view_module": "@jupyter-widgets/base",
       "_view_module_version": "1.2.0",
       "_view_name": "LayoutView",
       "align_content": null,
       "align_items": null,
       "align_self": null,
       "border": null,
       "bottom": null,
       "display": null,
       "flex": null,
       "flex_flow": null,
       "grid_area": null,
       "grid_auto_columns": null,
       "grid_auto_flow": null,
       "grid_auto_rows": null,
       "grid_column": null,
       "grid_gap": null,
       "grid_row": null,
       "grid_template_areas": null,
       "grid_template_columns": null,
       "grid_template_rows": null,
       "height": null,
       "justify_content": null,
       "justify_items": null,
       "left": null,
       "margin": null,
       "max_height": null,
       "max_width": null,
       "min_height": null,
       "min_width": null,
       "object_fit": null,
       "object_position": null,
       "order": null,
       "overflow": null,
       "overflow_x": null,
       "overflow_y": null,
       "padding": null,
       "right": null,
       "top": null,
       "visibility": null,
       "width": null
      }
     },
     "ebc8595f0ae4491395f77306d9e04e94": {
      "model_module": "@jupyter-widgets/controls",
      "model_module_version": "1.5.0",
      "model_name": "DescriptionStyleModel",
      "state": {
       "_model_module": "@jupyter-widgets/controls",
       "_model_module_version": "1.5.0",
       "_model_name": "DescriptionStyleModel",
       "_view_count": null,
       "_view_module": "@jupyter-widgets/base",
       "_view_module_version": "1.2.0",
       "_view_name": "StyleView",
       "description_width": ""
      }
     },
     "f232003348e742d0813ca47811e5fd90": {
      "model_module": "@jupyter-widgets/base",
      "model_module_version": "1.2.0",
      "model_name": "LayoutModel",
      "state": {
       "_model_module": "@jupyter-widgets/base",
       "_model_module_version": "1.2.0",
       "_model_name": "LayoutModel",
       "_view_count": null,
       "_view_module": "@jupyter-widgets/base",
       "_view_module_version": "1.2.0",
       "_view_name": "LayoutView",
       "align_content": null,
       "align_items": null,
       "align_self": null,
       "border": null,
       "bottom": null,
       "display": null,
       "flex": null,
       "flex_flow": null,
       "grid_area": null,
       "grid_auto_columns": null,
       "grid_auto_flow": null,
       "grid_auto_rows": null,
       "grid_column": null,
       "grid_gap": null,
       "grid_row": null,
       "grid_template_areas": null,
       "grid_template_columns": null,
       "grid_template_rows": null,
       "height": null,
       "justify_content": null,
       "justify_items": null,
       "left": null,
       "margin": null,
       "max_height": null,
       "max_width": null,
       "min_height": null,
       "min_width": null,
       "object_fit": null,
       "object_position": null,
       "order": null,
       "overflow": null,
       "overflow_x": null,
       "overflow_y": null,
       "padding": null,
       "right": null,
       "top": null,
       "visibility": null,
       "width": null
      }
     },
     "f2db9173cae34a4fa58d679cbd92362d": {
      "model_module": "@jupyter-widgets/controls",
      "model_module_version": "1.5.0",
      "model_name": "DescriptionStyleModel",
      "state": {
       "_model_module": "@jupyter-widgets/controls",
       "_model_module_version": "1.5.0",
       "_model_name": "DescriptionStyleModel",
       "_view_count": null,
       "_view_module": "@jupyter-widgets/base",
       "_view_module_version": "1.2.0",
       "_view_name": "StyleView",
       "description_width": ""
      }
     },
     "f7b6c496e2b946cf8fc79464ca88cfbd": {
      "model_module": "@jupyter-widgets/base",
      "model_module_version": "1.2.0",
      "model_name": "LayoutModel",
      "state": {
       "_model_module": "@jupyter-widgets/base",
       "_model_module_version": "1.2.0",
       "_model_name": "LayoutModel",
       "_view_count": null,
       "_view_module": "@jupyter-widgets/base",
       "_view_module_version": "1.2.0",
       "_view_name": "LayoutView",
       "align_content": null,
       "align_items": null,
       "align_self": null,
       "border": null,
       "bottom": null,
       "display": null,
       "flex": null,
       "flex_flow": null,
       "grid_area": null,
       "grid_auto_columns": null,
       "grid_auto_flow": null,
       "grid_auto_rows": null,
       "grid_column": null,
       "grid_gap": null,
       "grid_row": null,
       "grid_template_areas": null,
       "grid_template_columns": null,
       "grid_template_rows": null,
       "height": null,
       "justify_content": null,
       "justify_items": null,
       "left": null,
       "margin": null,
       "max_height": null,
       "max_width": null,
       "min_height": null,
       "min_width": null,
       "object_fit": null,
       "object_position": null,
       "order": null,
       "overflow": null,
       "overflow_x": null,
       "overflow_y": null,
       "padding": null,
       "right": null,
       "top": null,
       "visibility": null,
       "width": null
      }
     },
     "f83f33e5eb0f4596806e5a8e4c16e2ce": {
      "model_module": "@jupyter-widgets/controls",
      "model_module_version": "1.5.0",
      "model_name": "ProgressStyleModel",
      "state": {
       "_model_module": "@jupyter-widgets/controls",
       "_model_module_version": "1.5.0",
       "_model_name": "ProgressStyleModel",
       "_view_count": null,
       "_view_module": "@jupyter-widgets/base",
       "_view_module_version": "1.2.0",
       "_view_name": "StyleView",
       "bar_color": null,
       "description_width": ""
      }
     },
     "fac64f893eec4c388e7a30eb9f5cd325": {
      "model_module": "@jupyter-widgets/base",
      "model_module_version": "1.2.0",
      "model_name": "LayoutModel",
      "state": {
       "_model_module": "@jupyter-widgets/base",
       "_model_module_version": "1.2.0",
       "_model_name": "LayoutModel",
       "_view_count": null,
       "_view_module": "@jupyter-widgets/base",
       "_view_module_version": "1.2.0",
       "_view_name": "LayoutView",
       "align_content": null,
       "align_items": null,
       "align_self": null,
       "border": null,
       "bottom": null,
       "display": null,
       "flex": null,
       "flex_flow": null,
       "grid_area": null,
       "grid_auto_columns": null,
       "grid_auto_flow": null,
       "grid_auto_rows": null,
       "grid_column": null,
       "grid_gap": null,
       "grid_row": null,
       "grid_template_areas": null,
       "grid_template_columns": null,
       "grid_template_rows": null,
       "height": null,
       "justify_content": null,
       "justify_items": null,
       "left": null,
       "margin": null,
       "max_height": null,
       "max_width": null,
       "min_height": null,
       "min_width": null,
       "object_fit": null,
       "object_position": null,
       "order": null,
       "overflow": null,
       "overflow_x": null,
       "overflow_y": null,
       "padding": null,
       "right": null,
       "top": null,
       "visibility": null,
       "width": null
      }
     },
     "fb47a13d43254403aab26260c4820319": {
      "model_module": "@jupyter-widgets/controls",
      "model_module_version": "1.5.0",
      "model_name": "ProgressStyleModel",
      "state": {
       "_model_module": "@jupyter-widgets/controls",
       "_model_module_version": "1.5.0",
       "_model_name": "ProgressStyleModel",
       "_view_count": null,
       "_view_module": "@jupyter-widgets/base",
       "_view_module_version": "1.2.0",
       "_view_name": "StyleView",
       "bar_color": null,
       "description_width": ""
      }
     },
     "fb7272ffdf394b3f86c46d26155d708c": {
      "model_module": "@jupyter-widgets/base",
      "model_module_version": "1.2.0",
      "model_name": "LayoutModel",
      "state": {
       "_model_module": "@jupyter-widgets/base",
       "_model_module_version": "1.2.0",
       "_model_name": "LayoutModel",
       "_view_count": null,
       "_view_module": "@jupyter-widgets/base",
       "_view_module_version": "1.2.0",
       "_view_name": "LayoutView",
       "align_content": null,
       "align_items": null,
       "align_self": null,
       "border": null,
       "bottom": null,
       "display": null,
       "flex": null,
       "flex_flow": null,
       "grid_area": null,
       "grid_auto_columns": null,
       "grid_auto_flow": null,
       "grid_auto_rows": null,
       "grid_column": null,
       "grid_gap": null,
       "grid_row": null,
       "grid_template_areas": null,
       "grid_template_columns": null,
       "grid_template_rows": null,
       "height": null,
       "justify_content": null,
       "justify_items": null,
       "left": null,
       "margin": null,
       "max_height": null,
       "max_width": null,
       "min_height": null,
       "min_width": null,
       "object_fit": null,
       "object_position": null,
       "order": null,
       "overflow": null,
       "overflow_x": null,
       "overflow_y": null,
       "padding": null,
       "right": null,
       "top": null,
       "visibility": null,
       "width": null
      }
     },
     "fe68f2732d15473aa0a4aeeaa4a67f64": {
      "model_module": "@jupyter-widgets/controls",
      "model_module_version": "1.5.0",
      "model_name": "HBoxModel",
      "state": {
       "_dom_classes": [],
       "_model_module": "@jupyter-widgets/controls",
       "_model_module_version": "1.5.0",
       "_model_name": "HBoxModel",
       "_view_count": null,
       "_view_module": "@jupyter-widgets/controls",
       "_view_module_version": "1.5.0",
       "_view_name": "HBoxView",
       "box_style": "",
       "children": [
        "IPY_MODEL_c8976a074eb54efb854e58d8f35d59e7",
        "IPY_MODEL_1a33adb2b29744679afb49ca0e4a8582",
        "IPY_MODEL_67ec53a3eeb64a449f8ea5298479a59f"
       ],
       "layout": "IPY_MODEL_fac64f893eec4c388e7a30eb9f5cd325"
      }
     },
     "ffc228a4c3cb4c29ace686c7ebb8fa87": {
      "model_module": "@jupyter-widgets/base",
      "model_module_version": "1.2.0",
      "model_name": "LayoutModel",
      "state": {
       "_model_module": "@jupyter-widgets/base",
       "_model_module_version": "1.2.0",
       "_model_name": "LayoutModel",
       "_view_count": null,
       "_view_module": "@jupyter-widgets/base",
       "_view_module_version": "1.2.0",
       "_view_name": "LayoutView",
       "align_content": null,
       "align_items": null,
       "align_self": null,
       "border": null,
       "bottom": null,
       "display": null,
       "flex": null,
       "flex_flow": null,
       "grid_area": null,
       "grid_auto_columns": null,
       "grid_auto_flow": null,
       "grid_auto_rows": null,
       "grid_column": null,
       "grid_gap": null,
       "grid_row": null,
       "grid_template_areas": null,
       "grid_template_columns": null,
       "grid_template_rows": null,
       "height": null,
       "justify_content": null,
       "justify_items": null,
       "left": null,
       "margin": null,
       "max_height": null,
       "max_width": null,
       "min_height": null,
       "min_width": null,
       "object_fit": null,
       "object_position": null,
       "order": null,
       "overflow": null,
       "overflow_x": null,
       "overflow_y": null,
       "padding": null,
       "right": null,
       "top": null,
       "visibility": null,
       "width": null
      }
     }
    },
    "version_major": 2,
    "version_minor": 0
   }
  }
 },
 "nbformat": 4,
 "nbformat_minor": 5
}
